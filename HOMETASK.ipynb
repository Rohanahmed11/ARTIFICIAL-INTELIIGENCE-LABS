{
 "cells": [
  {
   "cell_type": "code",
   "execution_count": 1,
   "id": "7a0c2af4-1a38-4070-bf7c-2e79e7a09765",
   "metadata": {},
   "outputs": [
    {
     "name": "stdout",
     "output_type": "stream",
     "text": [
      "Prediction: [1 1 0]\n",
      "\n",
      "Confusion Matrix:\n",
      "[[1 0]\n",
      " [0 2]]\n",
      "\n",
      "Accuracy: 1.0\n"
     ]
    }
   ],
   "source": [
    "import numpy as np\n",
    "from sklearn.model_selection import train_test_split\n",
    "from sklearn.naive_bayes import GaussianNB\n",
    "from sklearn.preprocessing import LabelEncoder\n",
    "from sklearn.metrics import accuracy_score, confusion_matrix\n",
    "\n",
    "age = ['youth', 'youth', 'middle_aged', 'senior', 'senior', 'senior', \n",
    "       'middle_aged', 'youth', 'youth', 'senior', 'youth', \n",
    "       'middle_aged', 'middle_aged', 'senior']\n",
    "\n",
    "income = ['high', 'high', 'high', 'medium', 'low', 'low', \n",
    "          'low', 'medium', 'low', 'medium', 'medium', \n",
    "          'medium', 'high', 'medium']\n",
    "\n",
    "buy = ['no', 'no', 'yes', 'yes', 'yes', 'no', \n",
    "       'yes', 'no', 'yes', 'yes', 'yes', \n",
    "       'yes', 'yes', 'no']\n",
    "\n",
    "le_age = LabelEncoder()\n",
    "le_income = LabelEncoder()\n",
    "le_buy = LabelEncoder()\n",
    "\n",
    "age_encoded = le_age.fit_transform(age)\n",
    "income_encoded = le_income.fit_transform(income)\n",
    "buy_encoded = le_buy.fit_transform(buy)\n",
    "\n",
    "features = list(zip(age_encoded, income_encoded))\n",
    "labels = buy_encoded\n",
    "\n",
    "features_train, features_test, label_train, label_test = train_test_split(features, labels, test_size=0.2, random_state=42)\n",
    "\n",
    "model = GaussianNB()\n",
    "model.fit(features_train, label_train)\n",
    "predicted = model.predict(features_test)\n",
    "\n",
    "print(\"Prediction:\", predicted)\n",
    "conf_mat = confusion_matrix(label_test, predicted)\n",
    "print(\"\\nConfusion Matrix:\")\n",
    "print(conf_mat)\n",
    "accuracy = accuracy_score(label_test, predicted)\n",
    "print(\"\\nAccuracy:\", accuracy)\n"
   ]
  },
  {
   "cell_type": "code",
   "execution_count": null,
   "id": "d73a1446-936f-424e-981a-0d96c63983d2",
   "metadata": {},
   "outputs": [],
   "source": []
  }
 ],
 "metadata": {
  "kernelspec": {
   "display_name": "Python 3 (ipykernel)",
   "language": "python",
   "name": "python3"
  },
  "language_info": {
   "codemirror_mode": {
    "name": "ipython",
    "version": 3
   },
   "file_extension": ".py",
   "mimetype": "text/x-python",
   "name": "python",
   "nbconvert_exporter": "python",
   "pygments_lexer": "ipython3",
   "version": "3.13.0"
  }
 },
 "nbformat": 4,
 "nbformat_minor": 5
}
