{
 "cells": [
  {
   "cell_type": "code",
   "execution_count": 13,
   "id": "047957df-9eed-4300-b3c9-53981971df77",
   "metadata": {},
   "outputs": [
    {
     "name": "stdout",
     "output_type": "stream",
     "text": [
      "Confusion Matrix:\n",
      "[[4 1]\n",
      " [2 7]]\n",
      "Accuracy Score: 0.7857142857142857\n",
      "Prediction for new entry: no\n"
     ]
    }
   ],
   "source": [
    "import numpy as np\n",
    "from sklearn.tree import DecisionTreeClassifier\n",
    "from sklearn.metrics import confusion_matrix, accuracy_score\n",
    "from sklearn.preprocessing import LabelEncoder\n",
    "\n",
    "age = ['youth', 'youth', 'middle_aged', 'senior', 'senior', 'senior', \n",
    "       'middle_aged', 'youth', 'youth', 'senior', 'youth', \n",
    "       'middle_aged', 'middle_aged', 'senior']\n",
    "\n",
    "income = ['high', 'high', 'high', 'medium', 'low', 'low', \n",
    "          'low', 'medium', 'low', 'medium', 'medium', \n",
    "          'medium', 'high', 'medium']\n",
    "\n",
    "buy = ['no', 'no', 'yes', 'yes', 'yes', 'no', \n",
    "       'yes', 'no', 'yes', 'yes', 'yes', \n",
    "       'yes', 'yes', 'no']\n",
    "\n",
    "\n",
    "le = LabelEncoder()\n",
    "age_encoded = le_age.fit_transform(age)\n",
    "income_encoded = le_income.fit_transform(income)\n",
    "buy_encoded = le_buy.fit_transform(buy)\n",
    "\n",
    "features = np.column_stack((age_encoded, income_encoded))\n",
    "labels = buy_encoded\n",
    "\n",
    "classifier = DecisionTreeClassifier()\n",
    "classifier = classifier.fit(features, labels)\n",
    "\n",
    "predictions = classifier.predict(features)\n",
    "\n",
    "cm = confusion_matrix(labels, predictions)\n",
    "accuracy = accuracy_score(labels, predictions)\n",
    "\n",
    "print(\"Confusion Matrix:\")\n",
    "print(cm)\n",
    "print(f\"Accuracy Score: {accuracy}\")\n",
    "\n",
    "new_entry = ['youth', 'high']\n",
    "\n",
    "new_entry_encoded = [le_age.transform([new_entry[0]])[0], le_income.transform([new_entry[1]])[0]]\n",
    "\n",
    "new_prediction = classifier.predict([new_entry_encoded])\n",
    "\n",
    "predicted_label = 'yes' if new_prediction[0] == 1 else 'no'\n",
    "\n",
    "print(\"Prediction for new entry:\", predicted_label)\n"
   ]
  },
  {
   "cell_type": "code",
   "execution_count": null,
   "id": "ad58c2a8-0e01-4049-b83a-e0ba1d905712",
   "metadata": {},
   "outputs": [],
   "source": []
  },
  {
   "cell_type": "code",
   "execution_count": null,
   "id": "601db1a4-a783-4e24-86f6-0a1aa5feba93",
   "metadata": {},
   "outputs": [],
   "source": []
  }
 ],
 "metadata": {
  "kernelspec": {
   "display_name": "Python 3 (ipykernel)",
   "language": "python",
   "name": "python3"
  },
  "language_info": {
   "codemirror_mode": {
    "name": "ipython",
    "version": 3
   },
   "file_extension": ".py",
   "mimetype": "text/x-python",
   "name": "python",
   "nbconvert_exporter": "python",
   "pygments_lexer": "ipython3",
   "version": "3.13.0"
  }
 },
 "nbformat": 4,
 "nbformat_minor": 5
}
